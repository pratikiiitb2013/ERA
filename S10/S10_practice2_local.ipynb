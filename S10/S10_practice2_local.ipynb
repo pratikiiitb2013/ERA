{
 "cells": [
  {
   "cell_type": "code",
   "execution_count": null,
   "metadata": {},
   "outputs": [],
   "source": [
    "%matplotlib inline\n",
    "\n",
    "import torch\n",
    "import numpy as np\n",
    "import torch.optim as optim\n",
    "import torch.nn.functional as F\n",
    "import matplotlib.pyplot as plt\n",
    "from data_loaders import train_loader, test_loader\n",
    "from utils_visualization import visualize_data_loader\n",
    "from custom_resnet import Net\n",
    "from train_test import train, test\n",
    "import os\n",
    "os.environ['KMP_DUPLICATE_LIB_OK']='True'"
   ]
  },
  {
   "cell_type": "code",
   "execution_count": null,
   "metadata": {},
   "outputs": [],
   "source": [
    "SEED = 1\n",
    "\n",
    "# CUDA?\n",
    "cuda = torch.cuda.is_available()\n",
    "print(\"CUDA Available?\", cuda)\n",
    "\n",
    "# For reproducibility\n",
    "torch.manual_seed(SEED)\n",
    "\n",
    "if cuda:\n",
    "    torch.cuda.manual_seed(SEED)\n",
    "\n",
    "\n",
    "\n",
    "classes = ('plane', 'car', 'bird', 'cat',\n",
    "           'deer', 'dog', 'frog', 'horse', 'ship', 'truck')\n",
    "\n",
    "means=[0.485,0.456,0.406]\n",
    "stds=[0.229,0.224,0.225]\n",
    "batch_size = 512\n",
    "num_workers = 32\n",
    "cuda_available = torch.cuda.is_available()\n",
    "cuda_available"
   ]
  },
  {
   "cell_type": "code",
   "execution_count": null,
   "metadata": {},
   "outputs": [],
   "source": [
    "trainldr = train_loader(batch_size, num_workers, cuda_available, means, stds)\n",
    "testldr = test_loader(batch_size, num_workers, cuda_available, means, stds)"
   ]
  },
  {
   "cell_type": "code",
   "execution_count": null,
   "metadata": {},
   "outputs": [],
   "source": [
    "dataiter = iter(trainldr)\n",
    "images, labels = next(dataiter)\n",
    "\n",
    "\n",
    "visualize_data_loader(images, labels, classes, 5)"
   ]
  },
  {
   "cell_type": "code",
   "execution_count": null,
   "metadata": {},
   "outputs": [],
   "source": [
    "from torchsummary import summary\n",
    "use_cuda = torch.cuda.is_available()\n",
    "device = torch.device(\"cuda\" if use_cuda else \"cpu\")\n",
    "print(device)\n",
    "net = Net('bn').to(device)\n",
    "summary(net, input_size=(3, 32, 32))"
   ]
  },
  {
   "cell_type": "code",
   "execution_count": null,
   "metadata": {},
   "outputs": [],
   "source": [
    "import torch.nn as nn\n",
    "from torch_lr_finder import LRFinder\n",
    "train_criterion = nn.CrossEntropyLoss()\n",
    "test_criterion = nn.CrossEntropyLoss(reduction='sum')\n",
    "# train_criterion = F.nll_loss\n",
    "# test_criterion = F.nll_loss\n",
    "optimizer = torch.optim.Adam(net.parameters(), lr=0.03, weight_decay=1e-4)\n",
    "lr_finder = LRFinder(net, optimizer, train_criterion, device='cuda')\n",
    "lr_finder.range_test(trainldr,end_lr=10, num_iter=200, step_mode='exp')\n",
    "lr_finder.plot()\n",
    "lr_finder.reset()"
   ]
  },
  {
   "cell_type": "code",
   "execution_count": null,
   "metadata": {},
   "outputs": [],
   "source": []
  },
  {
   "cell_type": "code",
   "execution_count": null,
   "metadata": {},
   "outputs": [],
   "source": []
  },
  {
   "cell_type": "code",
   "execution_count": null,
   "metadata": {},
   "outputs": [],
   "source": [
    "import torch\n",
    "from tqdm import tqdm\n",
    "from torch.optim import lr_scheduler\n",
    "\n",
    "EPOCHS = 24\n",
    "\n",
    "optimizer = torch.optim.Adam(net.parameters(), lr=0.001)\n",
    "\n",
    "scheduler = lr_scheduler.OneCycleLR(optimizer,\n",
    "                                    max_lr=4.93E-02,\n",
    "                                    steps_per_epoch=len(trainldr),\n",
    "                                    epochs=EPOCHS,\n",
    "                                    pct_start=5/EPOCHS,\n",
    "                                    div_factor=100,\n",
    "                                    final_div_factor=100,\n",
    "                                    three_phase=False,\n",
    "                                    anneal_strategy='linear')\n",
    "\n",
    "\n",
    "train_losses = []\n",
    "test_losses = []\n",
    "train_acc = []\n",
    "test_acc = []\n",
    "\n",
    "# model =  Net('bn').to(device)\n",
    "\n",
    "# learning_rate = []\n",
    "EPOCHS = 24\n",
    "for epoch in range(EPOCHS):  # loop over the dataset multiple times\n",
    "    for param_group in optimizer.param_groups:\n",
    "      print(\"lr= \",param_group['lr'])\n",
    "    train_losses, train_acc = train(net, device, trainldr, optimizer, epoch, scheduler, train_criterion, train_losses, train_acc)\n",
    "    test_loss, test_acc = test(net, device, testldr,test_criterion, test_losses, test_acc)\n",
    "print('Finished Training')\n",
    "\n"
   ]
  },
  {
   "cell_type": "code",
   "execution_count": null,
   "metadata": {},
   "outputs": [],
   "source": []
  }
 ],
 "metadata": {
  "kernelspec": {
   "display_name": "base",
   "language": "python",
   "name": "python3"
  },
  "language_info": {
   "codemirror_mode": {
    "name": "ipython",
    "version": 3
   },
   "file_extension": ".py",
   "mimetype": "text/x-python",
   "name": "python",
   "nbconvert_exporter": "python",
   "pygments_lexer": "ipython3",
   "version": "3.9.7"
  },
  "orig_nbformat": 4
 },
 "nbformat": 4,
 "nbformat_minor": 2
}
