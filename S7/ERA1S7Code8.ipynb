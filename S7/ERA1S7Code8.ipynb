{
  "nbformat": 4,
  "nbformat_minor": 0,
  "metadata": {
    "colab": {
      "provenance": [],
      "gpuType": "T4",
      "include_colab_link": true
    },
    "kernelspec": {
      "name": "python3",
      "display_name": "Python 3"
    },
    "language_info": {
      "name": "python"
    },
    "accelerator": "GPU"
  },
  "cells": [
    {
      "cell_type": "markdown",
      "metadata": {
        "id": "view-in-github",
        "colab_type": "text"
      },
      "source": [
        "<a href=\"https://colab.research.google.com/github/pratikiiitb2013/ERA/blob/main/S7/ERA1S7Code8.ipynb\" target=\"_parent\"><img src=\"https://colab.research.google.com/assets/colab-badge.svg\" alt=\"Open In Colab\"/></a>"
      ]
    },
    {
      "cell_type": "code",
      "execution_count": null,
      "metadata": {
        "id": "GnEGUyFEP-y_"
      },
      "outputs": [],
      "source": [
        "from __future__ import print_function\n",
        "import torch\n",
        "import torch.nn as nn\n",
        "import torch.nn.functional as F\n",
        "import torch.optim as optim\n",
        "from torchvision import datasets, transforms"
      ]
    },
    {
      "cell_type": "markdown",
      "source": [
        "## Data Transformations\n",
        "\n",
        "We first start with defining our data transformations. We need to think what our data is and how can we augment it to correct represent images which it might not see otherwise.\n",
        "\n",
        "Here is the list of all the transformations which come pre-built with PyTorch\n",
        "\n",
        "1.   Compose\n",
        "2.   ToTensor\n",
        "3.   ToPILImage\n",
        "4. Normalize\n",
        "5. Resize\n",
        "6. Scale\n",
        "7. CenterCrop\n",
        "8. Pad\n",
        "9. Lambda\n",
        "10. RandomApply\n",
        "11. RandomChoice\n",
        "12. RandomOrder\n",
        "13. RandomCrop\n",
        "14. RandomHorizontalFlip\n",
        "15. RandomVerticalFlip\n",
        "16. RandomResizedCrop\n",
        "17. RandomSizedCrop\n",
        "18. FiveCrop\n",
        "19. TenCrop\n",
        "20. LinearTransformation\n",
        "21. ColorJitter\n",
        "22. RandomRotation\n",
        "23. RandomAffine\n",
        "24. Grayscale\n",
        "25. RandomGrayscale\n",
        "26. RandomPerspective\n",
        "27. RandomErasing\n",
        "\n",
        "You can read more about them [here](https://pytorch.org/docs/stable/_modules/torchvision/transforms/transforms.html)"
      ],
      "metadata": {
        "id": "4SUAj8UgQjHX"
      }
    },
    {
      "cell_type": "code",
      "source": [
        "# Train Phase transformations\n",
        "train_transforms = transforms.Compose([\n",
        "                                      #  transforms.Resize((28, 28)),\n",
        "                                      #  transforms.ColorJitter(brightness=0.10, contrast=0.1, saturation=0.10, hue=0.1),\n",
        "                                       transforms.ToTensor(),\n",
        "                                       transforms.Normalize((0.1307,), (0.3081,)) # The mean and std have to be sequences (e.g., tuples), therefore you should add a comma after the values.\n",
        "                                       # Note the difference between (0.1307) and (0.1307,)\n",
        "                                       ])\n",
        "### Normalize needs tensor(not np array)\n",
        "# Test Phase transformations\n",
        "test_transforms = transforms.Compose([\n",
        "                                      #  transforms.Resize((28, 28)),\n",
        "                                      #  transforms.ColorJitter(brightness=0.10, contrast=0.1, saturation=0.10, hue=0.1),\n",
        "                                       transforms.ToTensor(),\n",
        "                                       transforms.Normalize((0.1307,), (0.3081,))\n",
        "                                       ])\n"
      ],
      "metadata": {
        "id": "oEhdQlKEQe-M"
      },
      "execution_count": null,
      "outputs": []
    },
    {
      "cell_type": "markdown",
      "source": [
        "# Dataset and Creating Train/Test Split"
      ],
      "metadata": {
        "id": "PgsAS-MJQqz8"
      }
    },
    {
      "cell_type": "code",
      "source": [
        "train = datasets.MNIST('./data', train=True, download=True, transform=train_transforms)\n",
        "test = datasets.MNIST('./data', train=False, download=True, transform=test_transforms)"
      ],
      "metadata": {
        "id": "7jAobKE4QrI5",
        "colab": {
          "base_uri": "https://localhost:8080/"
        },
        "outputId": "d764643f-839c-4c10-eb5f-d0afe430b233"
      },
      "execution_count": null,
      "outputs": [
        {
          "output_type": "stream",
          "name": "stdout",
          "text": [
            "Downloading http://yann.lecun.com/exdb/mnist/train-images-idx3-ubyte.gz\n",
            "Downloading http://yann.lecun.com/exdb/mnist/train-images-idx3-ubyte.gz to ./data/MNIST/raw/train-images-idx3-ubyte.gz\n"
          ]
        },
        {
          "output_type": "stream",
          "name": "stderr",
          "text": [
            "100%|██████████| 9912422/9912422 [00:00<00:00, 86581793.13it/s]\n"
          ]
        },
        {
          "output_type": "stream",
          "name": "stdout",
          "text": [
            "Extracting ./data/MNIST/raw/train-images-idx3-ubyte.gz to ./data/MNIST/raw\n",
            "\n",
            "Downloading http://yann.lecun.com/exdb/mnist/train-labels-idx1-ubyte.gz\n",
            "Downloading http://yann.lecun.com/exdb/mnist/train-labels-idx1-ubyte.gz to ./data/MNIST/raw/train-labels-idx1-ubyte.gz\n"
          ]
        },
        {
          "output_type": "stream",
          "name": "stderr",
          "text": [
            "100%|██████████| 28881/28881 [00:00<00:00, 58946809.65it/s]"
          ]
        },
        {
          "output_type": "stream",
          "name": "stdout",
          "text": [
            "Extracting ./data/MNIST/raw/train-labels-idx1-ubyte.gz to ./data/MNIST/raw\n",
            "\n",
            "Downloading http://yann.lecun.com/exdb/mnist/t10k-images-idx3-ubyte.gz\n",
            "Downloading http://yann.lecun.com/exdb/mnist/t10k-images-idx3-ubyte.gz to ./data/MNIST/raw/t10k-images-idx3-ubyte.gz\n"
          ]
        },
        {
          "output_type": "stream",
          "name": "stderr",
          "text": [
            "\n",
            "100%|██████████| 1648877/1648877 [00:00<00:00, 23430753.17it/s]\n"
          ]
        },
        {
          "output_type": "stream",
          "name": "stdout",
          "text": [
            "Extracting ./data/MNIST/raw/t10k-images-idx3-ubyte.gz to ./data/MNIST/raw\n",
            "\n",
            "Downloading http://yann.lecun.com/exdb/mnist/t10k-labels-idx1-ubyte.gz\n",
            "Downloading http://yann.lecun.com/exdb/mnist/t10k-labels-idx1-ubyte.gz to ./data/MNIST/raw/t10k-labels-idx1-ubyte.gz\n"
          ]
        },
        {
          "output_type": "stream",
          "name": "stderr",
          "text": [
            "100%|██████████| 4542/4542 [00:00<00:00, 20888737.68it/s]\n"
          ]
        },
        {
          "output_type": "stream",
          "name": "stdout",
          "text": [
            "Extracting ./data/MNIST/raw/t10k-labels-idx1-ubyte.gz to ./data/MNIST/raw\n",
            "\n"
          ]
        }
      ]
    },
    {
      "cell_type": "markdown",
      "source": [
        "# Dataloader Arguments & Test/Train Dataloaders\n"
      ],
      "metadata": {
        "id": "RaGHtF0SQwqz"
      }
    },
    {
      "cell_type": "code",
      "source": [
        "SEED = 1\n",
        "\n",
        "# CUDA?\n",
        "cuda = torch.cuda.is_available()\n",
        "print(\"CUDA Available?\", cuda)\n",
        "\n",
        "# For reproducibility\n",
        "torch.manual_seed(SEED)\n",
        "\n",
        "if cuda:\n",
        "    torch.cuda.manual_seed(SEED)\n",
        "\n",
        "# dataloader arguments - something you'll fetch these from cmdprmt\n",
        "dataloader_args = dict(shuffle=True, batch_size=128, num_workers=4, pin_memory=True) if cuda else dict(shuffle=True, batch_size=64)\n",
        "\n",
        "# train dataloader\n",
        "train_loader = torch.utils.data.DataLoader(train, **dataloader_args)\n",
        "\n",
        "# test dataloader\n",
        "test_loader = torch.utils.data.DataLoader(test, **dataloader_args)"
      ],
      "metadata": {
        "colab": {
          "base_uri": "https://localhost:8080/"
        },
        "id": "2amKSm-2QuRM",
        "outputId": "158d5684-1b3f-4dab-b447-de2bfc71884f"
      },
      "execution_count": null,
      "outputs": [
        {
          "output_type": "stream",
          "name": "stdout",
          "text": [
            "CUDA Available? True\n"
          ]
        },
        {
          "output_type": "stream",
          "name": "stderr",
          "text": [
            "/usr/local/lib/python3.10/dist-packages/torch/utils/data/dataloader.py:560: UserWarning: This DataLoader will create 4 worker processes in total. Our suggested max number of worker in current system is 2, which is smaller than what this DataLoader is going to create. Please be aware that excessive worker creation might get DataLoader running slow or even freeze, lower the worker number to avoid potential slowness/freeze if necessary.\n",
            "  warnings.warn(_create_warning_msg(\n"
          ]
        }
      ]
    },
    {
      "cell_type": "markdown",
      "source": [
        "# Data Statistics\n",
        "\n",
        "It is important to know your data very well. Let's check some of the statistics around our data and how it actually looks like"
      ],
      "metadata": {
        "id": "c04e5x_RQ1Jz"
      }
    },
    {
      "cell_type": "code",
      "source": [
        "# We'd need to convert it into Numpy! Remember above we have converted it into tensors already\n",
        "train_data = train.train_data\n",
        "train_data = train.transform(train_data.numpy())\n",
        "\n",
        "print('[Train]')\n",
        "print(' - Numpy Shape:', train.train_data.cpu().numpy().shape)\n",
        "print(' - Tensor Shape:', train.train_data.size())\n",
        "print(' - min:', torch.min(train_data))\n",
        "print(' - max:', torch.max(train_data))\n",
        "print(' - mean:', torch.mean(train_data))\n",
        "print(' - std:', torch.std(train_data))\n",
        "print(' - var:', torch.var(train_data))\n",
        "\n",
        "dataiter = iter(train_loader)\n",
        "images, labels = next(dataiter)\n",
        "\n",
        "print(images.shape)\n",
        "print(labels.shape)\n",
        "\n",
        "# Let's visualize some of the images\n",
        "%matplotlib inline\n",
        "import matplotlib.pyplot as plt\n",
        "\n",
        "plt.imshow(images[0].numpy().squeeze(), cmap='gray_r')\n"
      ],
      "metadata": {
        "colab": {
          "base_uri": "https://localhost:8080/",
          "height": 656
        },
        "id": "o14ZZxwyQy75",
        "outputId": "a12a5922-995f-4603-b54b-32e6c3d85e26"
      },
      "execution_count": null,
      "outputs": [
        {
          "output_type": "stream",
          "name": "stderr",
          "text": [
            "/usr/local/lib/python3.10/dist-packages/torchvision/datasets/mnist.py:75: UserWarning: train_data has been renamed data\n",
            "  warnings.warn(\"train_data has been renamed data\")\n"
          ]
        },
        {
          "output_type": "stream",
          "name": "stdout",
          "text": [
            "[Train]\n",
            " - Numpy Shape: (60000, 28, 28)\n",
            " - Tensor Shape: torch.Size([60000, 28, 28])\n",
            " - min: tensor(-0.4242)\n",
            " - max: tensor(2.8215)\n",
            " - mean: tensor(-0.0001)\n",
            " - std: tensor(1.0000)\n",
            " - var: tensor(1.0001)\n",
            "torch.Size([128, 1, 28, 28])\n",
            "torch.Size([128])\n"
          ]
        },
        {
          "output_type": "execute_result",
          "data": {
            "text/plain": [
              "<matplotlib.image.AxesImage at 0x7f9ca627b850>"
            ]
          },
          "metadata": {},
          "execution_count": 5
        },
        {
          "output_type": "display_data",
          "data": {
            "text/plain": [
              "<Figure size 640x480 with 1 Axes>"
            ],
            "image/png": "[encoded data removed]"
          },
          "metadata": {}
        }
      ]
    },
    {
      "cell_type": "code",
      "source": [
        "images[0].numpy()"
      ],
      "metadata": {
        "colab": {
          "base_uri": "https://localhost:8080/"
        },
        "id": "PR1fS_N6wM25",
        "outputId": "dbfde5d4-8995-4094-e429-bcbbfa12c642"
      },
      "execution_count": null,
      "outputs": [
        {
          "output_type": "execute_result",
          "data": {
            "text/plain": [
              "array([[[-0.42421296, -0.42421296, -0.42421296, -0.42421296,\n",
              "         -0.42421296, -0.42421296, -0.42421296, -0.42421296,\n",
              "         -0.42421296, -0.42421296, -0.42421296, -0.42421296,\n",
              "         -0.42421296, -0.42421296, -0.42421296, -0.42421296,\n",
              "         -0.42421296, -0.42421296, -0.42421296, -0.42421296,\n",
              "         -0.42421296, -0.42421296, -0.42421296, -0.42421296,\n",
              "         -0.42421296, -0.42421296, -0.42421296, -0.42421296],\n",
              "        [-0.42421296, -0.42421296, -0.42421296, -0.42421296,\n",
              "         -0.42421296, -0.42421296, -0.42421296, -0.42421296,\n",
              "         -0.42421296, -0.42421296, -0.42421296, -0.42421296,\n",
              "         -0.42421296, -0.42421296, -0.42421296, -0.42421296,\n",
              "         -0.42421296, -0.42421296, -0.42421296, -0.42421296,\n",
              "         -0.42421296, -0.42421296, -0.42421296, -0.42421296,\n",
              "         -0.42421296, -0.42421296, -0.42421296, -0.42421296],\n",
              "        [-0.42421296, -0.42421296, -0.42421296, -0.42421296,\n",
              "         -0.42421296, -0.42421296, -0.42421296, -0.42421296,\n",
              "         -0.42421296, -0.42421296, -0.42421296, -0.42421296,\n",
              "         -0.42421296, -0.42421296, -0.42421296, -0.42421296,\n",
              "         -0.42421296, -0.42421296, -0.42421296, -0.42421296,\n",
              "         -0.42421296, -0.42421296, -0.42421296, -0.42421296,\n",
              "         -0.42421296, -0.42421296, -0.42421296, -0.42421296],\n",
              "        [-0.42421296, -0.42421296, -0.42421296, -0.42421296,\n",
              "         -0.42421296, -0.42421296, -0.42421296, -0.42421296,\n",
              "         -0.42421296, -0.42421296, -0.42421296, -0.42421296,\n",
              "         -0.42421296, -0.42421296, -0.42421296, -0.42421296,\n",
              "         -0.42421296, -0.42421296, -0.42421296, -0.42421296,\n",
              "         -0.42421296, -0.42421296, -0.42421296, -0.42421296,\n",
              "         -0.42421296, -0.42421296, -0.42421296, -0.42421296],\n",
              "        [-0.42421296, -0.42421296, -0.42421296, -0.42421296,\n",
              "         -0.42421296, -0.42421296, -0.42421296, -0.42421296,\n",
              "         -0.42421296, -0.42421296, -0.42421296, -0.42421296,\n",
              "         -0.42421296, -0.42421296, -0.42421296, -0.42421296,\n",
              "         -0.42421296, -0.42421296,  1.4850222 ,  0.30129635,\n",
              "         -0.42421296, -0.42421296, -0.42421296, -0.42421296,\n",
              "         -0.42421296, -0.42421296, -0.42421296, -0.42421296],\n",
              "        [-0.42421296, -0.42421296, -0.42421296, -0.42421296,\n",
              "         -0.42421296, -0.42421296, -0.42421296, -0.42421296,\n",
              "         -0.42421296, -0.42421296, -0.42421296, -0.42421296,\n",
              "         -0.42421296, -0.42421296, -0.42421296, -0.42421296,\n",
              "         -0.42421296, -0.42421296,  2.1468904 ,  0.9631645 ,\n",
              "         -0.42421296, -0.42421296, -0.42421296, -0.42421296,\n",
              "         -0.42421296, -0.42421296, -0.42421296, -0.42421296],\n",
              "        [-0.42421296, -0.42421296, -0.42421296, -0.42421296,\n",
              "         -0.42421296, -0.42421296, -0.42421296, -0.42421296,\n",
              "         -0.42421296, -0.42421296, -0.42421296, -0.42421296,\n",
              "         -0.42421296, -0.42421296, -0.42421296, -0.42421296,\n",
              "         -0.42421296, -0.42421296,  2.8087585 ,  0.9631645 ,\n",
              "         -0.42421296, -0.42421296, -0.42421296, -0.42421296,\n",
              "         -0.42421296, -0.42421296, -0.42421296, -0.42421296],\n",
              "        [-0.42421296, -0.42421296, -0.42421296, -0.42421296,\n",
              "         -0.42421296, -0.42421296, -0.42421296, -0.42421296,\n",
              "         -0.42421296, -0.42421296, -0.42421296, -0.42421296,\n",
              "         -0.42421296, -0.42421296, -0.42421296, -0.42421296,\n",
              "         -0.42421296,  0.37766576,  2.8087585 ,  0.1612858 ,\n",
              "         -0.42421296, -0.42421296, -0.42421296, -0.42421296,\n",
              "         -0.42421296, -0.42421296, -0.42421296, -0.42421296],\n",
              "        [-0.42421296, -0.42421296, -0.42421296, -0.42421296,\n",
              "         -0.42421296, -0.42421296, -0.42421296, -0.42421296,\n",
              "         -0.42421296,  0.11037287,  1.7523152 ,  0.17401403,\n",
              "         -0.42421296, -0.42421296, -0.42421296, -0.42421296,\n",
              "         -0.42421296,  0.50494814,  2.8087585 ,  0.69587165,\n",
              "         -0.42421296, -0.42421296, -0.42421296, -0.42421296,\n",
              "         -0.42421296, -0.42421296, -0.42421296, -0.42421296],\n",
              "        [-0.42421296, -0.42421296, -0.42421296, -0.42421296,\n",
              "         -0.42421296, -0.42421296, -0.42421296, -0.42421296,\n",
              "         -0.42421296,  1.688674  ,  2.8087585 ,  0.9631645 ,\n",
              "         -0.42421296, -0.42421296, -0.42421296, -0.42421296,\n",
              "         -0.42421296,  0.50494814,  2.8087585 ,  0.9631645 ,\n",
              "         -0.42421296, -0.42421296, -0.42421296, -0.42421296,\n",
              "         -0.42421296, -0.42421296, -0.42421296, -0.42421296],\n",
              "        [-0.42421296, -0.42421296, -0.42421296, -0.42421296,\n",
              "         -0.42421296, -0.42421296, -0.42421296, -0.42421296,\n",
              "         -0.42421296,  2.350542  ,  2.8214867 ,  0.8358821 ,\n",
              "         -0.42421296, -0.42421296, -0.42421296, -0.42421296,\n",
              "         -0.42421296,  0.50494814,  2.8087585 ,  0.03400347,\n",
              "         -0.42421296, -0.42421296, -0.42421296, -0.42421296,\n",
              "         -0.42421296, -0.42421296, -0.42421296, -0.42421296],\n",
              "        [-0.42421296, -0.42421296, -0.42421296, -0.42421296,\n",
              "         -0.42421296, -0.42421296, -0.42421296, -0.42421296,\n",
              "         -0.01690946,  2.732389  ,  2.4141831 , -0.3605718 ,\n",
              "         -0.42421296, -0.42421296, -0.42421296, -0.42421296,\n",
              "         -0.42421296,  1.0395339 ,  2.8087585 ,  0.03400347,\n",
              "         -0.42421296, -0.42421296, -0.42421296, -0.42421296,\n",
              "         -0.42421296, -0.42421296, -0.42421296, -0.42421296],\n",
              "        [-0.42421296, -0.42421296, -0.42421296, -0.42421296,\n",
              "         -0.42421296, -0.42421296, -0.42421296, -0.42421296,\n",
              "          0.70859987,  2.8087585 ,  1.9559668 , -0.42421296,\n",
              "         -0.42421296, -0.42421296, -0.42421296, -0.42421296,\n",
              "         -0.42421296,  1.4213811 ,  2.350542  , -0.42421296,\n",
              "         -0.42421296, -0.42421296, -0.42421296, -0.42421296,\n",
              "         -0.42421296, -0.42421296, -0.42421296, -0.42421296],\n",
              "        [-0.42421296, -0.42421296, -0.42421296, -0.42421296,\n",
              "         -0.42421296, -0.42421296, -0.42421296, -0.42421296,\n",
              "          1.7523152 ,  2.7960303 ,  0.37766576, -0.42421296,\n",
              "         -0.42421296, -0.42421296, -0.42421296, -0.42421296,\n",
              "         -0.2842024 ,  2.083249  ,  2.083249  , -0.42421296,\n",
              "         -0.42421296, -0.42421296, -0.42421296, -0.42421296,\n",
              "         -0.42421296, -0.42421296, -0.42421296, -0.42421296],\n",
              "        [-0.42421296, -0.42421296, -0.42421296, -0.42421296,\n",
              "         -0.42421296, -0.42421296, -0.42421296, -0.2842024 ,\n",
              "          2.5414655 ,  2.8087585 ,  0.04673171, -0.34784356,\n",
              "         -0.42421296, -0.42421296, -0.42421296, -0.42421296,\n",
              "          0.04673171,  2.8087585 ,  1.4213811 , -0.42421296,\n",
              "         -0.42421296, -0.42421296, -0.42421296, -0.42421296,\n",
              "         -0.42421296, -0.42421296, -0.42421296, -0.42421296],\n",
              "        [-0.42421296, -0.42421296, -0.42421296, -0.42421296,\n",
              "         -0.42421296, -0.42421296, -0.42421296,  1.0395339 ,\n",
              "          2.7960303 ,  2.7960303 ,  2.8087585 ,  2.401455  ,\n",
              "          1.688674  ,  0.63223046, -0.42421296, -0.42421296,\n",
              "          0.04673171,  2.7960303 ,  1.4213811 , -0.42421296,\n",
              "         -0.42421296, -0.42421296, -0.42421296, -0.42421296,\n",
              "         -0.42421296, -0.42421296, -0.42421296, -0.42421296],\n",
              "        [-0.42421296, -0.42421296, -0.42421296, -0.42421296,\n",
              "         -0.42421296, -0.42421296, -0.42421296,  1.4213811 ,\n",
              "          2.8087585 ,  1.0904468 ,  1.1668162 ,  1.688674  ,\n",
              "          2.5541937 ,  2.8087585 ,  2.8087585 ,  2.2741728 ,\n",
              "          2.286901  ,  2.8087585 ,  1.103175  , -0.09327888,\n",
              "         -0.42421296, -0.42421296, -0.42421296, -0.42421296,\n",
              "         -0.42421296, -0.42421296, -0.42421296, -0.42421296],\n",
              "        [-0.42421296, -0.42421296, -0.42421296, -0.42421296,\n",
              "         -0.42421296, -0.42421296, -0.42421296,  1.4213811 ,\n",
              "          2.7960303 ,  0.03400347, -0.42421296, -0.42421296,\n",
              "         -0.2205612 ,  1.3450117 ,  1.3450117 ,  1.6123046 ,\n",
              "          2.5414655 ,  2.7960303 ,  2.8087585 ,  2.668748  ,\n",
              "          0.11037287, -0.42421296, -0.42421296, -0.42421296,\n",
              "         -0.42421296, -0.42421296, -0.42421296, -0.42421296],\n",
              "        [-0.42421296, -0.42421296, -0.42421296, -0.42421296,\n",
              "         -0.42421296, -0.42421296, -0.42421296,  0.91225153,\n",
              "          1.8159562 , -0.2842024 , -0.42421296, -0.42421296,\n",
              "         -0.42421296, -0.42421296, -0.42421296, -0.42421296,\n",
              "          2.5541937 ,  2.1468904 , -0.42421296, -0.42421296,\n",
              "         -0.42421296, -0.42421296, -0.42421296, -0.42421296,\n",
              "         -0.42421296, -0.42421296, -0.42421296, -0.42421296],\n",
              "        [-0.42421296, -0.42421296, -0.42421296, -0.42421296,\n",
              "         -0.42421296, -0.42421296, -0.42421296, -0.42421296,\n",
              "         -0.42421296, -0.42421296, -0.42421296, -0.42421296,\n",
              "         -0.42421296, -0.42421296, -0.42421296,  0.11037287,\n",
              "          2.8087585 ,  1.3450117 , -0.42421296, -0.42421296,\n",
              "         -0.42421296, -0.42421296, -0.42421296, -0.42421296,\n",
              "         -0.42421296, -0.42421296, -0.42421296, -0.42421296],\n",
              "        [-0.42421296, -0.42421296, -0.42421296, -0.42421296,\n",
              "         -0.42421296, -0.42421296, -0.42421296, -0.42421296,\n",
              "         -0.42421296, -0.42421296, -0.42421296, -0.42421296,\n",
              "         -0.42421296, -0.42421296, -0.42421296,  1.0395339 ,\n",
              "          2.8087585 ,  0.30129635, -0.42421296, -0.42421296,\n",
              "         -0.42421296, -0.42421296, -0.42421296, -0.42421296,\n",
              "         -0.42421296, -0.42421296, -0.42421296, -0.42421296],\n",
              "        [-0.42421296, -0.42421296, -0.42421296, -0.42421296,\n",
              "         -0.42421296, -0.42421296, -0.42421296, -0.42421296,\n",
              "         -0.42421296, -0.42421296, -0.42421296, -0.42421296,\n",
              "         -0.42421296, -0.42421296, -0.42421296,  2.3378139 ,\n",
              "          2.4141831 , -0.3605718 , -0.42421296, -0.42421296,\n",
              "         -0.42421296, -0.42421296, -0.42421296, -0.42421296,\n",
              "         -0.42421296, -0.42421296, -0.42421296, -0.42421296],\n",
              "        [-0.42421296, -0.42421296, -0.42421296, -0.42421296,\n",
              "         -0.42421296, -0.42421296, -0.42421296, -0.42421296,\n",
              "         -0.42421296, -0.42421296, -0.42421296, -0.42421296,\n",
              "         -0.42421296, -0.42421296, -0.42421296,  2.350542  ,\n",
              "          1.9559668 , -0.42421296, -0.42421296, -0.42421296,\n",
              "         -0.42421296, -0.42421296, -0.42421296, -0.42421296,\n",
              "         -0.42421296, -0.42421296, -0.42421296, -0.42421296],\n",
              "        [-0.42421296, -0.42421296, -0.42421296, -0.42421296,\n",
              "         -0.42421296, -0.42421296, -0.42421296, -0.42421296,\n",
              "         -0.42421296, -0.42421296, -0.42421296, -0.42421296,\n",
              "         -0.42421296, -0.42421296, -0.42421296,  2.3378139 ,\n",
              "          1.4213811 , -0.42421296, -0.42421296, -0.42421296,\n",
              "         -0.42421296, -0.42421296, -0.42421296, -0.42421296,\n",
              "         -0.42421296, -0.42421296, -0.42421296, -0.42421296],\n",
              "        [-0.42421296, -0.42421296, -0.42421296, -0.42421296,\n",
              "         -0.42421296, -0.42421296, -0.42421296, -0.42421296,\n",
              "         -0.42421296, -0.42421296, -0.42421296, -0.42421296,\n",
              "         -0.42421296, -0.42421296, -0.42421296, -0.42421296,\n",
              "         -0.42421296, -0.42421296, -0.42421296, -0.42421296,\n",
              "         -0.42421296, -0.42421296, -0.42421296, -0.42421296,\n",
              "         -0.42421296, -0.42421296, -0.42421296, -0.42421296],\n",
              "        [-0.42421296, -0.42421296, -0.42421296, -0.42421296,\n",
              "         -0.42421296, -0.42421296, -0.42421296, -0.42421296,\n",
              "         -0.42421296, -0.42421296, -0.42421296, -0.42421296,\n",
              "         -0.42421296, -0.42421296, -0.42421296, -0.42421296,\n",
              "         -0.42421296, -0.42421296, -0.42421296, -0.42421296,\n",
              "         -0.42421296, -0.42421296, -0.42421296, -0.42421296,\n",
              "         -0.42421296, -0.42421296, -0.42421296, -0.42421296],\n",
              "        [-0.42421296, -0.42421296, -0.42421296, -0.42421296,\n",
              "         -0.42421296, -0.42421296, -0.42421296, -0.42421296,\n",
              "         -0.42421296, -0.42421296, -0.42421296, -0.42421296,\n",
              "         -0.42421296, -0.42421296, -0.42421296, -0.42421296,\n",
              "         -0.42421296, -0.42421296, -0.42421296, -0.42421296,\n",
              "         -0.42421296, -0.42421296, -0.42421296, -0.42421296,\n",
              "         -0.42421296, -0.42421296, -0.42421296, -0.42421296],\n",
              "        [-0.42421296, -0.42421296, -0.42421296, -0.42421296,\n",
              "         -0.42421296, -0.42421296, -0.42421296, -0.42421296,\n",
              "         -0.42421296, -0.42421296, -0.42421296, -0.42421296,\n",
              "         -0.42421296, -0.42421296, -0.42421296, -0.42421296,\n",
              "         -0.42421296, -0.42421296, -0.42421296, -0.42421296,\n",
              "         -0.42421296, -0.42421296, -0.42421296, -0.42421296,\n",
              "         -0.42421296, -0.42421296, -0.42421296, -0.42421296]]],\n",
              "      dtype=float32)"
            ]
          },
          "metadata": {},
          "execution_count": 6
        }
      ]
    },
    {
      "cell_type": "markdown",
      "source": [
        "## MORE\n",
        "\n",
        "It is important that we view as many images as possible. This is required to get some idea on image augmentation later on"
      ],
      "metadata": {
        "id": "fqeiSlHiR4kG"
      }
    },
    {
      "cell_type": "code",
      "source": [
        "figure = plt.figure()\n",
        "num_of_images = 60\n",
        "for index in range(1, num_of_images + 1):\n",
        "    plt.subplot(6, 10, index)\n",
        "    plt.axis('off')\n",
        "    plt.imshow(images[index].numpy().squeeze(), cmap='gray_r')"
      ],
      "metadata": {
        "colab": {
          "base_uri": "https://localhost:8080/",
          "height": 395
        },
        "id": "dTDvy4D2Q3Ql",
        "outputId": "9dc50661-8a56-46b4-e1f6-3de1c87ac64c"
      },
      "execution_count": null,
      "outputs": [
        {
          "output_type": "display_data",
          "data": {
            "text/plain": [
              "<Figure size 640x480 with 60 Axes>"
            ],
            "image/png": "[encoded data removed]"
          },
          "metadata": {}
        }
      ]
    },
    {
      "cell_type": "markdown",
      "source": [
        "# The model\n",
        "Let's start with the model we first saw"
      ],
      "metadata": {
        "id": "BSUKDoHWSFQ4"
      }
    },
    {
      "cell_type": "code",
      "source": [
        "class Net2(nn.Module):\n",
        "  def __init__(self):\n",
        "    super(Net2, self).__init__()\n",
        "    self.convblock1 = nn.Sequential(\n",
        "            nn.Conv2d(in_channels=1, out_channels=10, kernel_size=(3, 3), padding=0, bias=False),\n",
        "            nn.BatchNorm2d(10),\n",
        "            nn.ReLU()\n",
        "        ) # output_size = 26\n",
        "\n",
        "    # CONVOLUTION BLOCK 1\n",
        "    self.convblock2 = nn.Sequential(\n",
        "            nn.Conv2d(in_channels=10, out_channels=13, kernel_size=(3, 3), padding=0, bias=False),\n",
        "            nn.BatchNorm2d(13),\n",
        "            nn.ReLU()\n",
        "    ) # output_size = 24\n",
        "\n",
        "    # TRANSITION BLOCK 1\n",
        "    self.mp1 = nn.MaxPool2d(2, 2) # output_size = 12\n",
        "    self.convblock3 = nn.Sequential(\n",
        "        nn.Conv2d(in_channels=13, out_channels=8, kernel_size=(1, 1), padding=0, bias=False),\n",
        "        # nn.BatchNorm2d(8),\n",
        "        # nn.ReLU()\n",
        "    ) # output_size = 12\n",
        "\n",
        "    # CONVOLUTION BLOCK 2\n",
        "    self.convblock4 = nn.Sequential(\n",
        "            nn.Conv2d(in_channels=8, out_channels=10, kernel_size=(3, 3), padding=0, bias=False),\n",
        "            nn.BatchNorm2d(10),\n",
        "            nn.ReLU()\n",
        "    ) # output_size = 10\n",
        "    self.convblock5 = nn.Sequential(\n",
        "            nn.Conv2d(in_channels=10, out_channels=20, kernel_size=(3, 3), padding=0, bias=False),\n",
        "            nn.BatchNorm2d(20),\n",
        "            nn.ReLU()\n",
        "        ) # output_size = 8\n",
        "\n",
        "    # TRANSITION BLOCK 2\n",
        "    # self.mp2 = nn.MaxPool2d(2, 2) # output_size = 7\n",
        "    self.convblock6 = nn.Sequential(\n",
        "        nn.Conv2d(in_channels=20, out_channels=10, kernel_size=(1, 1), padding=0, bias=False),\n",
        "        # nn.BatchNorm2d(10),\n",
        "        # nn.ReLU()\n",
        "    ) # output_size = 8\n",
        "\n",
        "    # OUTPUT BLOCK\n",
        "    self.convblock7 = nn.Sequential(\n",
        "        nn.Conv2d(in_channels=10, out_channels=20, kernel_size=(3, 3), padding=0, bias=False),\n",
        "        nn.BatchNorm2d(20),\n",
        "        nn.ReLU()\n",
        "    )# output_size = 6\n",
        "    self.convblock8 = nn.Sequential(\n",
        "        nn.Conv2d(in_channels=20, out_channels=10, kernel_size=(3, 3), padding=0, bias=False),\n",
        "        nn.BatchNorm2d(10),\n",
        "        nn.ReLU()\n",
        "    )# output_size = 4\n",
        "\n",
        "    self.gap = nn.Sequential(\n",
        "            nn.AvgPool2d(kernel_size=4) # 7>> 9... nn.AdaptiveAvgPool((1, 1))\n",
        "        ) # output_size = 1\n",
        "    self.convblock9 = nn.Sequential(\n",
        "            nn.Conv2d(in_channels=10, out_channels=10, kernel_size=(1, 1), padding=0, bias=False),\n",
        "            # nn.BatchNorm2d(10),\n",
        "            # nn.ReLU(),\n",
        "            # nn.Dropout(dropout_value)\n",
        "        )\n",
        "    self.dropout = nn.Dropout(0.1)\n",
        "\n",
        "\n",
        "  def forward(self, x):\n",
        "    x = self.dropout(self.convblock2(self.dropout(self.convblock1(x))))\n",
        "    x = self.mp1(x)\n",
        "    x = self.convblock3(x)\n",
        "    x = self.dropout(self.convblock5(self.dropout(self.convblock4(x))))\n",
        "    # x = self.mp2(x)\n",
        "    x = self.convblock6(x)\n",
        "    # x = self.convblock9(self.convblock8(self.convblock7(x)))\n",
        "    x = self.gap(self.convblock8(self.convblock7(x)))\n",
        "    x = self.convblock9(x)\n",
        "    x = x.view(-1, 10) #1x1x10> 10\n",
        "    return F.log_softmax(x, dim=-1)"
      ],
      "metadata": {
        "id": "6QXRpEz8SCsl"
      },
      "execution_count": null,
      "outputs": []
    },
    {
      "cell_type": "markdown",
      "source": [
        "# Model Params\n",
        "Can't emphasize on how important viewing Model Summary is.\n",
        "Unfortunately, there is no in-built model visualizer, so we have to take external help"
      ],
      "metadata": {
        "id": "EW6Mu76iSJlz"
      }
    },
    {
      "cell_type": "code",
      "source": [
        "!pip install torchsummary\n",
        "from torchsummary import summary\n",
        "use_cuda = torch.cuda.is_available()\n",
        "device = torch.device(\"cuda\" if use_cuda else \"cpu\")\n",
        "print(device)\n",
        "# model = Net().to(device)\n",
        "model = Net2().to(device)\n",
        "summary(model, input_size=(1, 28, 28))"
      ],
      "metadata": {
        "colab": {
          "base_uri": "https://localhost:8080/"
        },
        "id": "HTbzJrSGSHUi",
        "outputId": "d13a482b-a7b3-4458-c8d0-ee79c611b7e9"
      },
      "execution_count": null,
      "outputs": [
        {
          "output_type": "stream",
          "name": "stdout",
          "text": [
            "Looking in indexes: https://pypi.org/simple, https://us-python.pkg.dev/colab-wheels/public/simple/\n",
            "Requirement already satisfied: torchsummary in /usr/local/lib/python3.10/dist-packages (1.5.1)\n",
            "cuda\n",
            "----------------------------------------------------------------\n",
            "        Layer (type)               Output Shape         Param #\n",
            "================================================================\n",
            "            Conv2d-1           [-1, 10, 26, 26]              90\n",
            "       BatchNorm2d-2           [-1, 10, 26, 26]              20\n",
            "              ReLU-3           [-1, 10, 26, 26]               0\n",
            "           Dropout-4           [-1, 10, 26, 26]               0\n",
            "            Conv2d-5           [-1, 13, 24, 24]           1,170\n",
            "       BatchNorm2d-6           [-1, 13, 24, 24]              26\n",
            "              ReLU-7           [-1, 13, 24, 24]               0\n",
            "           Dropout-8           [-1, 13, 24, 24]               0\n",
            "         MaxPool2d-9           [-1, 13, 12, 12]               0\n",
            "           Conv2d-10            [-1, 8, 12, 12]             104\n",
            "           Conv2d-11           [-1, 10, 10, 10]             720\n",
            "      BatchNorm2d-12           [-1, 10, 10, 10]              20\n",
            "             ReLU-13           [-1, 10, 10, 10]               0\n",
            "          Dropout-14           [-1, 10, 10, 10]               0\n",
            "           Conv2d-15             [-1, 20, 8, 8]           1,800\n",
            "      BatchNorm2d-16             [-1, 20, 8, 8]              40\n",
            "             ReLU-17             [-1, 20, 8, 8]               0\n",
            "          Dropout-18             [-1, 20, 8, 8]               0\n",
            "           Conv2d-19             [-1, 10, 8, 8]             200\n",
            "           Conv2d-20             [-1, 20, 6, 6]           1,800\n",
            "      BatchNorm2d-21             [-1, 20, 6, 6]              40\n",
            "             ReLU-22             [-1, 20, 6, 6]               0\n",
            "           Conv2d-23             [-1, 10, 4, 4]           1,800\n",
            "      BatchNorm2d-24             [-1, 10, 4, 4]              20\n",
            "             ReLU-25             [-1, 10, 4, 4]               0\n",
            "        AvgPool2d-26             [-1, 10, 1, 1]               0\n",
            "           Conv2d-27             [-1, 10, 1, 1]             100\n",
            "================================================================\n",
            "Total params: 7,950\n",
            "Trainable params: 7,950\n",
            "Non-trainable params: 0\n",
            "----------------------------------------------------------------\n",
            "Input size (MB): 0.00\n",
            "Forward/backward pass size (MB): 0.55\n",
            "Params size (MB): 0.03\n",
            "Estimated Total Size (MB): 0.59\n",
            "----------------------------------------------------------------\n"
          ]
        }
      ]
    },
    {
      "cell_type": "markdown",
      "source": [
        "# Training and Testing\n",
        "\n",
        "All right, so we have 6.3M params, and that's too many, we know that. But the purpose of this notebook is to set things right for our future experiments.\n",
        "\n",
        "Looking at logs can be boring, so we'll introduce **tqdm** progressbar to get cooler logs.\n",
        "\n",
        "Let's write train and test functions"
      ],
      "metadata": {
        "id": "rKq-wXFbSPUY"
      }
    },
    {
      "cell_type": "code",
      "source": [
        "from tqdm import tqdm\n",
        "\n",
        "train_losses = []\n",
        "test_losses = []\n",
        "train_acc = []\n",
        "test_acc = []\n",
        "\n",
        "def train(model, device, train_loader, optimizer, epoch):\n",
        "  model.train()\n",
        "  pbar = tqdm(train_loader)\n",
        "  correct = 0\n",
        "  processed = 0\n",
        "  for batch_idx, (data, target) in enumerate(pbar):\n",
        "    # get samples\n",
        "    data, target = data.to(device), target.to(device)\n",
        "\n",
        "    # Init\n",
        "    optimizer.zero_grad()\n",
        "    # In PyTorch, we need to set the gradients to zero before starting to do backpropragation because PyTorch accumulates the gradients on subsequent backward passes.\n",
        "    # Because of this, when you start your training loop, ideally you should zero out the gradients so that you do the parameter update correctly.\n",
        "\n",
        "    # Predict\n",
        "    y_pred = model(data)\n",
        "\n",
        "    # Calculate loss\n",
        "    loss = F.nll_loss(y_pred, target)\n",
        "    train_losses.append(loss)\n",
        "\n",
        "    # Backpropagation\n",
        "    loss.backward()\n",
        "    optimizer.step()\n",
        "\n",
        "    # Update pbar-tqdm\n",
        "\n",
        "    pred = y_pred.argmax(dim=1, keepdim=True)  # get the index of the max log-probability\n",
        "    correct += pred.eq(target.view_as(pred)).sum().item()\n",
        "    processed += len(data)\n",
        "\n",
        "    # print(correct)\n",
        "    # print(processed)\n",
        "    # print(len(train_losses))\n",
        "\n",
        "    pbar.set_description(desc= f'Loss={loss.item()} Batch_id={batch_idx} Accuracy={100*correct/processed:0.2f}')\n",
        "    train_acc.append(100*correct/processed)\n",
        "\n",
        "def test(model, device, test_loader):\n",
        "    model.eval()\n",
        "    test_loss = 0\n",
        "    correct = 0\n",
        "    with torch.no_grad():\n",
        "        for data, target in test_loader:\n",
        "            data, target = data.to(device), target.to(device)\n",
        "            output = model(data)\n",
        "            test_loss += F.nll_loss(output, target, reduction='sum').item()  # sum up batch loss\n",
        "            pred = output.argmax(dim=1, keepdim=True)  # get the index of the max log-probability\n",
        "            correct += pred.eq(target.view_as(pred)).sum().item()\n",
        "\n",
        "    test_loss /= len(test_loader.dataset)\n",
        "    test_losses.append(test_loss)\n",
        "\n",
        "    print('\\nTest set: Average loss: {:.4f}, Accuracy: {}/{} ({:.2f}%)\\n'.format(\n",
        "        test_loss, correct, len(test_loader.dataset),\n",
        "        100. * correct / len(test_loader.dataset)))\n",
        "\n",
        "    test_acc.append(100. * correct / len(test_loader.dataset))"
      ],
      "metadata": {
        "id": "1BKW8exmSL28"
      },
      "execution_count": null,
      "outputs": []
    },
    {
      "cell_type": "markdown",
      "source": [
        "# Let's Train and test our model"
      ],
      "metadata": {
        "id": "nj-0ibjSSTqi"
      }
    },
    {
      "cell_type": "code",
      "source": [
        "# model =  Net().to(device)\n",
        "model =  Net2().to(device)\n",
        "optimizer = optim.SGD(model.parameters(), lr=0.01, momentum=0.9)\n",
        "EPOCHS = 15\n",
        "for epoch in range(EPOCHS):\n",
        "    print(\"EPOCH:\", epoch)\n",
        "    train(model, device, train_loader, optimizer, epoch)\n",
        "    test(model, device, test_loader)"
      ],
      "metadata": {
        "colab": {
          "base_uri": "https://localhost:8080/"
        },
        "id": "HruYLARcSRMy",
        "outputId": "be4ff0a6-972a-44df-fe4c-16421368f9c6"
      },
      "execution_count": null,
      "outputs": [
        {
          "output_type": "stream",
          "name": "stdout",
          "text": [
            "EPOCH: 0\n"
          ]
        },
        {
          "output_type": "stream",
          "name": "stderr",
          "text": [
            "Loss=0.166934534907341 Batch_id=468 Accuracy=83.61: 100%|██████████| 469/469 [00:23<00:00, 20.29it/s]\n"
          ]
        },
        {
          "output_type": "stream",
          "name": "stdout",
          "text": [
            "\n",
            "Test set: Average loss: 0.0910, Accuracy: 9782/10000 (97.82%)\n",
            "\n",
            "EPOCH: 1\n"
          ]
        },
        {
          "output_type": "stream",
          "name": "stderr",
          "text": [
            "Loss=0.14499449729919434 Batch_id=468 Accuracy=97.70: 100%|██████████| 469/469 [00:19<00:00, 24.35it/s]\n"
          ]
        },
        {
          "output_type": "stream",
          "name": "stdout",
          "text": [
            "\n",
            "Test set: Average loss: 0.0489, Accuracy: 9868/10000 (98.68%)\n",
            "\n",
            "EPOCH: 2\n"
          ]
        },
        {
          "output_type": "stream",
          "name": "stderr",
          "text": [
            "Loss=0.04709313437342644 Batch_id=468 Accuracy=98.23: 100%|██████████| 469/469 [00:18<00:00, 25.52it/s]\n"
          ]
        },
        {
          "output_type": "stream",
          "name": "stdout",
          "text": [
            "\n",
            "Test set: Average loss: 0.0405, Accuracy: 9886/10000 (98.86%)\n",
            "\n",
            "EPOCH: 3\n"
          ]
        },
        {
          "output_type": "stream",
          "name": "stderr",
          "text": [
            "Loss=0.05879323557019234 Batch_id=468 Accuracy=98.44: 100%|██████████| 469/469 [00:19<00:00, 23.61it/s]\n"
          ]
        },
        {
          "output_type": "stream",
          "name": "stdout",
          "text": [
            "\n",
            "Test set: Average loss: 0.0306, Accuracy: 9908/10000 (99.08%)\n",
            "\n",
            "EPOCH: 4\n"
          ]
        },
        {
          "output_type": "stream",
          "name": "stderr",
          "text": [
            "Loss=0.015605758875608444 Batch_id=468 Accuracy=98.58: 100%|██████████| 469/469 [00:19<00:00, 24.65it/s]\n"
          ]
        },
        {
          "output_type": "stream",
          "name": "stdout",
          "text": [
            "\n",
            "Test set: Average loss: 0.0304, Accuracy: 9916/10000 (99.16%)\n",
            "\n",
            "EPOCH: 5\n"
          ]
        },
        {
          "output_type": "stream",
          "name": "stderr",
          "text": [
            "Loss=0.07993941754102707 Batch_id=468 Accuracy=98.72: 100%|██████████| 469/469 [00:19<00:00, 24.46it/s]\n"
          ]
        },
        {
          "output_type": "stream",
          "name": "stdout",
          "text": [
            "\n",
            "Test set: Average loss: 0.0243, Accuracy: 9928/10000 (99.28%)\n",
            "\n",
            "EPOCH: 6\n"
          ]
        },
        {
          "output_type": "stream",
          "name": "stderr",
          "text": [
            "Loss=0.0756620392203331 Batch_id=468 Accuracy=98.81: 100%|██████████| 469/469 [00:19<00:00, 24.34it/s]\n"
          ]
        },
        {
          "output_type": "stream",
          "name": "stdout",
          "text": [
            "\n",
            "Test set: Average loss: 0.0274, Accuracy: 9912/10000 (99.12%)\n",
            "\n",
            "EPOCH: 7\n"
          ]
        },
        {
          "output_type": "stream",
          "name": "stderr",
          "text": [
            "Loss=0.04063181206583977 Batch_id=468 Accuracy=98.81: 100%|██████████| 469/469 [00:19<00:00, 24.24it/s]\n"
          ]
        },
        {
          "output_type": "stream",
          "name": "stdout",
          "text": [
            "\n",
            "Test set: Average loss: 0.0226, Accuracy: 9927/10000 (99.27%)\n",
            "\n",
            "EPOCH: 8\n"
          ]
        },
        {
          "output_type": "stream",
          "name": "stderr",
          "text": [
            "Loss=0.039432212710380554 Batch_id=468 Accuracy=98.96: 100%|██████████| 469/469 [00:20<00:00, 22.63it/s]\n"
          ]
        },
        {
          "output_type": "stream",
          "name": "stdout",
          "text": [
            "\n",
            "Test set: Average loss: 0.0203, Accuracy: 9932/10000 (99.32%)\n",
            "\n",
            "EPOCH: 9\n"
          ]
        },
        {
          "output_type": "stream",
          "name": "stderr",
          "text": [
            "Loss=0.03662790730595589 Batch_id=468 Accuracy=98.96: 100%|██████████| 469/469 [00:22<00:00, 20.51it/s]\n"
          ]
        },
        {
          "output_type": "stream",
          "name": "stdout",
          "text": [
            "\n",
            "Test set: Average loss: 0.0198, Accuracy: 9941/10000 (99.41%)\n",
            "\n",
            "EPOCH: 10\n"
          ]
        },
        {
          "output_type": "stream",
          "name": "stderr",
          "text": [
            "Loss=0.04785262420773506 Batch_id=468 Accuracy=99.00: 100%|██████████| 469/469 [00:18<00:00, 24.99it/s]\n"
          ]
        },
        {
          "output_type": "stream",
          "name": "stdout",
          "text": [
            "\n",
            "Test set: Average loss: 0.0224, Accuracy: 9927/10000 (99.27%)\n",
            "\n",
            "EPOCH: 11\n"
          ]
        },
        {
          "output_type": "stream",
          "name": "stderr",
          "text": [
            "Loss=0.026868345215916634 Batch_id=468 Accuracy=99.00: 100%|██████████| 469/469 [00:19<00:00, 24.59it/s]\n"
          ]
        },
        {
          "output_type": "stream",
          "name": "stdout",
          "text": [
            "\n",
            "Test set: Average loss: 0.0223, Accuracy: 9927/10000 (99.27%)\n",
            "\n",
            "EPOCH: 12\n"
          ]
        },
        {
          "output_type": "stream",
          "name": "stderr",
          "text": [
            "Loss=0.02285294234752655 Batch_id=468 Accuracy=99.09: 100%|██████████| 469/469 [00:20<00:00, 23.44it/s]\n"
          ]
        },
        {
          "output_type": "stream",
          "name": "stdout",
          "text": [
            "\n",
            "Test set: Average loss: 0.0196, Accuracy: 9932/10000 (99.32%)\n",
            "\n",
            "EPOCH: 13\n"
          ]
        },
        {
          "output_type": "stream",
          "name": "stderr",
          "text": [
            "Loss=0.0075785391964018345 Batch_id=468 Accuracy=99.12: 100%|██████████| 469/469 [00:18<00:00, 25.07it/s]\n"
          ]
        },
        {
          "output_type": "stream",
          "name": "stdout",
          "text": [
            "\n",
            "Test set: Average loss: 0.0192, Accuracy: 9941/10000 (99.41%)\n",
            "\n",
            "EPOCH: 14\n"
          ]
        },
        {
          "output_type": "stream",
          "name": "stderr",
          "text": [
            "Loss=0.012528707273304462 Batch_id=468 Accuracy=99.14: 100%|██████████| 469/469 [00:20<00:00, 23.32it/s]\n"
          ]
        },
        {
          "output_type": "stream",
          "name": "stdout",
          "text": [
            "\n",
            "Test set: Average loss: 0.0220, Accuracy: 9926/10000 (99.26%)\n",
            "\n"
          ]
        }
      ]
    },
    {
      "cell_type": "code",
      "source": [
        "# train_losses"
      ],
      "metadata": {
        "id": "tZti6wZiSVnH"
      },
      "execution_count": null,
      "outputs": []
    },
    {
      "cell_type": "code",
      "source": [
        "t = [t_items.item() for t_items in train_losses]\n",
        "len(t)"
      ],
      "metadata": {
        "id": "45PD-WyDShr6",
        "colab": {
          "base_uri": "https://localhost:8080/"
        },
        "outputId": "267ba1c4-705d-4ec6-fe69-566ccf2422bc"
      },
      "execution_count": null,
      "outputs": [
        {
          "output_type": "execute_result",
          "data": {
            "text/plain": [
              "7035"
            ]
          },
          "metadata": {},
          "execution_count": 13
        }
      ]
    },
    {
      "cell_type": "code",
      "source": [
        "fig, axs = plt.subplots(2,2,figsize=(15,10))\n",
        "axs[0, 0].plot(t)\n",
        "axs[0, 0].set_title(\"Training Loss\")\n",
        "axs[1, 0].plot(train_acc)\n",
        "axs[1, 0].set_title(\"Training Accuracy\")\n",
        "axs[0, 1].plot(test_losses)\n",
        "axs[0, 1].set_title(\"Test Loss\")\n",
        "axs[1, 1].plot(test_acc)\n",
        "axs[1, 1].set_title(\"Test Accuracy\")"
      ],
      "metadata": {
        "colab": {
          "base_uri": "https://localhost:8080/",
          "height": 870
        },
        "id": "TEpLiSaQSln0",
        "outputId": "26cc98b0-e4d7-4aed-b569-55e2fb967552"
      },
      "execution_count": null,
      "outputs": [
        {
          "output_type": "execute_result",
          "data": {
            "text/plain": [
              "Text(0.5, 1.0, 'Test Accuracy')"
            ]
          },
          "metadata": {},
          "execution_count": 14
        },
        {
          "output_type": "display_data",
          "data": {
            "text/plain": [
              "<Figure size 1500x1000 with 4 Axes>"
            ],
            "image/png": "[encoded data removed]"
          },
          "metadata": {}
        }
      ]
    },
    {
      "cell_type": "code",
      "source": [
        "\n"
      ],
      "metadata": {
        "id": "i2E9heQHSnl1"
      },
      "execution_count": null,
      "outputs": []
    },
    {
      "cell_type": "code",
      "source": [
        "# Step 7 -\n",
        "\n",
        "# \tTarget:    Added one more layer after GAP, also redistributed params\n",
        "# \t\t\t   Removed dropout, Batch norm and Relu from transition blocks.\n",
        "\n",
        "# \tResults:   #Params - 7.9k, Train accuracy - 99.14%, Test accuracy - 99.41%\n",
        "\n",
        "# \tAnalysis:   we have hit 99.4 few times and fluctusting around 99.3\n",
        "# \t            adding capacity after GAP helped.\n",
        "# \t\t\t\tAlso removing dropout, relu and batch norm from transition block helped.\n",
        "# \t\t\t\tWe can see the model is still underfitting, tha means eveything is good."
      ],
      "metadata": {
        "id": "a6JNc0Ag0a_3"
      },
      "execution_count": null,
      "outputs": []
    },
    {
      "cell_type": "code",
      "source": [],
      "metadata": {
        "id": "j8Yk3_-n1vut"
      },
      "execution_count": null,
      "outputs": []
    }
  ]
}